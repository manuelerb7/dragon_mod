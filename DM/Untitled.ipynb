{
 "cells": [
  {
   "cell_type": "code",
   "execution_count": 3,
   "id": "0586f376",
   "metadata": {},
   "outputs": [],
   "source": [
    "import numpy as np"
   ]
  },
  {
   "cell_type": "code",
   "execution_count": 9,
   "id": "2127f0c1",
   "metadata": {},
   "outputs": [
    {
     "name": "stdout",
     "output_type": "stream",
     "text": [
      "2.302585092994046\n"
     ]
    }
   ],
   "source": [
    "text = np.loadtxt('AtProduction_positrons.dat',usecols=[1,2])\n",
    "\n",
    "energy = 1000*10**text[:,0]\n",
    "spec = 1000*text[:,1]/((10**text[:,0])*np.log(10))\n",
    "print(np.log(10))"
   ]
  },
  {
   "cell_type": "code",
   "execution_count": 10,
   "id": "73f196a2",
   "metadata": {},
   "outputs": [],
   "source": [
    "with open('ee_1000gev_pos.txt','w') as f:\n",
    "    for i in range(len(energy)):\n",
    "        string = str(energy[i])+'\\t'+str(spec[i])+'\\n'\n",
    "        f.write(string)"
   ]
  },
  {
   "cell_type": "code",
   "execution_count": null,
   "id": "25a9ddcf",
   "metadata": {},
   "outputs": [],
   "source": []
  }
 ],
 "metadata": {
  "kernelspec": {
   "display_name": "Python 3 (ipykernel)",
   "language": "python",
   "name": "python3"
  },
  "language_info": {
   "codemirror_mode": {
    "name": "ipython",
    "version": 3
   },
   "file_extension": ".py",
   "mimetype": "text/x-python",
   "name": "python",
   "nbconvert_exporter": "python",
   "pygments_lexer": "ipython3",
   "version": "3.8.10"
  }
 },
 "nbformat": 4,
 "nbformat_minor": 5
}
