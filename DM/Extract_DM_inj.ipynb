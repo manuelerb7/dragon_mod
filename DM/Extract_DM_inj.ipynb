{
 "cells": [
  {
   "cell_type": "code",
   "execution_count": 36,
   "id": "cd8343b6",
   "metadata": {},
   "outputs": [],
   "source": [
    "import numpy as np\n",
    "import os"
   ]
  },
  {
   "cell_type": "code",
   "execution_count": 56,
   "id": "606af059",
   "metadata": {},
   "outputs": [],
   "source": [
    "def write_data(filename,Ei,dNdEi):\n",
    "    f = open(filename,'x')\n",
    "    for j in range(len(x)):\n",
    "        string = str(Ei[j])+'\\t'+str(dNdEi[j])+'\\n'\n",
    "        f.write(string)\n",
    "    f.close()"
   ]
  },
  {
   "cell_type": "code",
   "execution_count": 57,
   "id": "b65f90a6",
   "metadata": {},
   "outputs": [],
   "source": [
    "data_table = np.loadtxt('AtProduction_positrons.dat')\n",
    "\n",
    "\n",
    "channels = ['e','mu','tau','b','t','W','Z','gamma','H']\n",
    "cols = [4,7,10,13,14,17,20,22,23]"
   ]
  },
  {
   "cell_type": "code",
   "execution_count": 64,
   "id": "8f2f1c4c",
   "metadata": {},
   "outputs": [],
   "source": [
    "mass = 1000\n",
    "\n",
    "x = data_table[mass == data_table[:,0],1]\n",
    "E = mass*10**(x)\n",
    "dlog10x_to_dE = E*np.log(10)\n",
    "\n",
    "cmd = 'mkdir '+str(mass)+'GeV'\n",
    "os.system(cmd)\n",
    "for i in range(len(channels)):\n",
    "    dNdlog10x = data_table[mass == data_table[:,0],cols[i]]\n",
    "    \n",
    "    dNdE = dNdlog10x/dlog10x_to_dE\n",
    "    \n",
    "    name = str(mass)+'GeV/'+channels[i]+'_'+str(mass)+'GeV.txt'\n",
    "    \n",
    "    write_data(name,E,dNdE)"
   ]
  },
  {
   "cell_type": "code",
   "execution_count": null,
   "id": "f4ad5ded",
   "metadata": {},
   "outputs": [],
   "source": []
  }
 ],
 "metadata": {
  "kernelspec": {
   "display_name": "Python 3 (ipykernel)",
   "language": "python",
   "name": "python3"
  },
  "language_info": {
   "codemirror_mode": {
    "name": "ipython",
    "version": 3
   },
   "file_extension": ".py",
   "mimetype": "text/x-python",
   "name": "python",
   "nbconvert_exporter": "python",
   "pygments_lexer": "ipython3",
   "version": "3.8.10"
  }
 },
 "nbformat": 4,
 "nbformat_minor": 5
}
