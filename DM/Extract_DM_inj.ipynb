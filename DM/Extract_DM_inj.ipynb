{
 "cells": [
  {
   "cell_type": "code",
   "execution_count": 28,
   "id": "cd8343b6",
   "metadata": {},
   "outputs": [],
   "source": [
    "import numpy as np\n",
    "import os"
   ]
  },
  {
   "cell_type": "code",
   "execution_count": 29,
   "id": "5d390403",
   "metadata": {},
   "outputs": [],
   "source": [
    "def write_data(filename,Ei,dNdEi):\n",
    "    f = open(filename,'a')\n",
    "    for i in range(len(x)):\n",
    "        string = str(Ei)+'\\t'+str(dNdEi)+'\\n'\n",
    "        f.write(string)\n",
    "    f.close()"
   ]
  },
  {
   "cell_type": "code",
   "execution_count": 30,
   "id": "b65f90a6",
   "metadata": {},
   "outputs": [],
   "source": [
    "data_table = np.loadtxt('AtProduction_positrons.dat')\n",
    "\n",
    "\n",
    "channels = ['e','mu','tau','b','t','W','Z','gamma','H']\n",
    "cols = [4,7,10,13,14,17,20,22,23]"
   ]
  },
  {
   "cell_type": "code",
   "execution_count": 35,
   "id": "8741aaa8",
   "metadata": {},
   "outputs": [],
   "source": [
    "mass = 100\n",
    "\n",
    "x = data_table[mass == data_table[:,0],1]\n",
    "E = mass*10**(x)\n",
    "dlog10x_to_dE = E*np.log(10)\n",
    "\n",
    "cmd = 'mkdir '+str(mass)+'GeV'\n",
    "os.system(cmd)\n",
    "for i in range(len(channels)):\n",
    "    dNdlog10x = data_table[mass == data_table[:,0],cols[i]]\n",
    "    \n",
    "    dNdE = dNdlog10x/dlog10x_to_dE\n",
    "    \n",
    "    name = str(mass)+'GeV/'+channels[i]+'_'+str(mass)+'GeV.txt'\n",
    "    \n",
    "    write_data(name,E,dNdE)"
   ]
  }
 ],
 "metadata": {
  "kernelspec": {
   "display_name": "Python 3 (ipykernel)",
   "language": "python",
   "name": "python3"
  },
  "language_info": {
   "codemirror_mode": {
    "name": "ipython",
    "version": 3
   },
   "file_extension": ".py",
   "mimetype": "text/x-python",
   "name": "python",
   "nbconvert_exporter": "python",
   "pygments_lexer": "ipython3",
   "version": "3.8.10"
  }
 },
 "nbformat": 4,
 "nbformat_minor": 5
}
